{
 "cells": [
  {
   "cell_type": "code",
   "execution_count": 10,
   "metadata": {},
   "outputs": [],
   "source": [
    "import pandas as pd\n",
    "import numpy as np\n",
    "import json\n",
    "import ast\n",
    "import re\n",
    "\n",
    "from src.data_processing import open_json, count_verbs, count_ingredients\n",
    "\n",
    "#from collections import Counter"
   ]
  },
  {
   "cell_type": "markdown",
   "metadata": {},
   "source": [
    "### Processing allrecipes data"
   ]
  },
  {
   "cell_type": "code",
   "execution_count": 9,
   "metadata": {},
   "outputs": [
    {
     "ename": "NameError",
     "evalue": "name 'open_json' is not defined",
     "output_type": "error",
     "traceback": [
      "\u001b[1;31m---------------------------------------------------------------------------\u001b[0m",
      "\u001b[1;31mNameError\u001b[0m                                 Traceback (most recent call last)",
      "Input \u001b[1;32mIn [9]\u001b[0m, in \u001b[0;36m<cell line: 2>\u001b[1;34m()\u001b[0m\n\u001b[0;32m      1\u001b[0m \u001b[38;5;66;03m# importing allrecipes data and converting to dataframe\u001b[39;00m\n\u001b[1;32m----> 2\u001b[0m ar_data \u001b[38;5;241m=\u001b[39m \u001b[43mopen_json\u001b[49m(\u001b[38;5;124m'\u001b[39m\u001b[38;5;124mscraping/recipes/recipes_allrecipes.json\u001b[39m\u001b[38;5;124m'\u001b[39m)\n\u001b[0;32m      3\u001b[0m ar_data \u001b[38;5;241m=\u001b[39m pd\u001b[38;5;241m.\u001b[39mDataFrame(ar_data)\n\u001b[0;32m      5\u001b[0m \u001b[38;5;66;03m# splitting basic_info into separate columns and removing old basic_info column\u001b[39;00m\n",
      "\u001b[1;31mNameError\u001b[0m: name 'open_json' is not defined"
     ]
    }
   ],
   "source": [
    "# importing allrecipes data and converting to dataframe\n",
    "ar_data = open_json('scraping/recipes/recipes_allrecipes.json')\n",
    "ar_data = pd.DataFrame(ar_data)\n",
    "\n",
    "# splitting basic_info into separate columns and removing old basic_info column\n",
    "ar_data[['title', 'category','rating','rating_count']] = ar_data['basic_info'].apply(pd.Series)\n",
    "ar_data = ar_data.drop(columns=['basic_info'])\n",
    "\n",
    "# splitting prep_data into separate columns and removing old prep_data column, only keeping cook_time, total_time, yield, and servings\n",
    "ar_data[['cook_time', 'total_time', 'yield', 'servings']] = ar_data['prep_data'].apply(\n",
    "    lambda x: pd.Series({\n",
    "        'cook_time': x.get('cook_time', ''),\n",
    "        'total_time': x.get('total_time', ''),\n",
    "        'yield': x.get('yield', ''),\n",
    "        'servings': x.get('servings', '')\n",
    "    }))\n",
    "ar_data = ar_data.drop(columns=['prep_data'])\n",
    "\n",
    "# splitting nutritions column and removing old nutritions column\n",
    "ar_data[['calories','fat','carbs','protein']] = ar_data['nutritions'].apply(pd.Series)\n",
    "ar_data = ar_data.drop(columns=['nutritions'])\n",
    "\n",
    "# removing rows where there are no directions\n",
    "ar_data = ar_data[ar_data['directions'].apply(lambda x: x != [])]\n",
    "\n",
    "# add verb count (basically number of steps)\n",
    "ar_data['verb_count'] = ar_data['directions'].apply(count_verbs)\n",
    "\n",
    "# add ingredients count\n",
    "ar_data['ingredient_count'] = ar_data['ingredients'].apply(count_ingredients)\n",
    "\n",
    "# save to csv\n",
    "ar_data.to_csv('recipe_data.csv', index = False)"
   ]
  }
 ],
 "metadata": {
  "kernelspec": {
   "display_name": "base",
   "language": "python",
   "name": "python3"
  },
  "language_info": {
   "codemirror_mode": {
    "name": "ipython",
    "version": 3
   },
   "file_extension": ".py",
   "mimetype": "text/x-python",
   "name": "python",
   "nbconvert_exporter": "python",
   "pygments_lexer": "ipython3",
   "version": "3.9.12"
  }
 },
 "nbformat": 4,
 "nbformat_minor": 4
}
