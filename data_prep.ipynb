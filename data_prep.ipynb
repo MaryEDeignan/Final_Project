{
 "cells": [
  {
   "cell_type": "code",
   "execution_count": null,
   "metadata": {},
   "outputs": [],
   "source": [
    "import pandas as pd\n",
    "import numpy as np\n",
    "import json\n",
    "import ast\n",
    "import re\n",
    "\n",
    "#from collections import Counter"
   ]
  },
  {
   "cell_type": "code",
   "execution_count": null,
   "metadata": {},
   "outputs": [
    {
     "name": "stderr",
     "output_type": "stream",
     "text": [
      "[nltk_data] Downloading package averaged_perceptron_tagger to\n",
      "[nltk_data]     C:\\Users\\romer\\AppData\\Roaming\\nltk_data...\n",
      "[nltk_data]   Package averaged_perceptron_tagger is already up-to-\n",
      "[nltk_data]       date!\n",
      "[nltk_data] Downloading package punkt to\n",
      "[nltk_data]     C:\\Users\\romer\\AppData\\Roaming\\nltk_data...\n",
      "[nltk_data]   Package punkt is already up-to-date!\n"
     ]
    }
   ],
   "source": [
    "import pandas as pd\n",
    "import nltk\n",
    "nltk.download('averaged_perceptron_tagger')\n",
    "nltk.download('punkt')\n",
    "import json\n",
    "\n",
    "def open_json(file_path: str):\n",
    "    with open(file_path, 'r') as file:\n",
    "        return json.load(file)\n",
    "\n",
    "def count_ingredients(ingredients_list: list) -> int:\n",
    "    '''    \n",
    "    Count the number of ingredients in a given recipe.\n",
    "\n",
    "    Arguments:\n",
    "    ingredients_list (list): A list of ingredient strings.\n",
    "\n",
    "    Returns:\n",
    "    int: The count of non-empty ingredient strings. Returns 0 if the input list is empty.'''\n",
    "    \n",
    "    if ingredients_list:  # Check if the list is not empty\n",
    "        # Counting non-empty strings in the list\n",
    "        return sum(1 for ingredient in ingredients_list if ingredient.strip())  \n",
    "    return 0  # Return 0 for empty lists\n",
    "\n",
    "def count_verbs(dir_list):\n",
    "    text = ' '.join(dir_list)\n",
    "    tokens = nltk.word_tokenize(text)\n",
    "    pos_tags = nltk.pos_tag(tokens)\n",
    "    return sum(1 for word, pos in pos_tags if pos.startswith('VB'))"
   ]
  },
  {
   "cell_type": "markdown",
   "metadata": {},
   "source": [
    "### Processing allrecipes data"
   ]
  },
  {
   "cell_type": "code",
   "execution_count": 29,
   "metadata": {},
   "outputs": [],
   "source": [
    "# importing allrecipes data and converting to dataframe\n",
    "ar_data = open_json('scraping/recipes/recipes_allrecipes.json')\n",
    "ar_data = pd.DataFrame(ar_data)\n",
    "\n",
    "# splitting basic_info into separate columns and removing old basic_info column\n",
    "ar_data[['title', 'category','rating','rating_count']] = ar_data['basic_info'].apply(pd.Series)\n",
    "ar_data = ar_data.drop(columns=['basic_info'])\n",
    "\n",
    "# splitting prep_data into separate columns and removing old prep_data column, only keeping cook_time, total_time, yield, and servings\n",
    "ar_data[['cook_time', 'total_time', 'yield', 'servings']] = ar_data['prep_data'].apply(\n",
    "    lambda x: pd.Series({\n",
    "        'cook_time': x.get('cook_time', ''),\n",
    "        'total_time': x.get('total_time', ''),\n",
    "        'yield': x.get('yield', ''),\n",
    "        'servings': x.get('servings', '')\n",
    "    }))\n",
    "ar_data = ar_data.drop(columns=['prep_data'])\n",
    "\n",
    "# splitting nutritions column and removing old nutritions column\n",
    "ar_data[['calories','fat','carbs','protein']] = ar_data['nutritions'].apply(lambda x: pd.Series(x, dtype = 'object'))\n",
    "ar_data = ar_data.drop(columns=['nutritions'])\n",
    "\n",
    "# removing rows where there are no directions\n",
    "ar_data = ar_data[ar_data['directions'].apply(lambda x: x != [])]"
   ]
  },
  {
   "cell_type": "code",
   "execution_count": 32,
   "metadata": {},
   "outputs": [],
   "source": [
    "# add verb count (basically number of steps)\n",
    "ar_data['verb_count'] = ar_data['directions'].apply(count_verbs)\n",
    "\n",
    "# add ingredients count\n",
    "ar_data['ingredient_count'] = ar_data['ingredients'].apply(count_ingredients)\n",
    "\n",
    "# merge yield and servings\n",
    "ar_data['yield_servings_merge'] = ar_data['yield' if ar_data['yield'].empty else 'servings']\n",
    "\n",
    "# save file to csv\n",
    "ar_data.to_csv('recipe_data.csv', index = False)"
   ]
  }
 ],
 "metadata": {
  "kernelspec": {
   "display_name": "base",
   "language": "python",
   "name": "python3"
  },
  "language_info": {
   "codemirror_mode": {
    "name": "ipython",
    "version": 3
   },
   "file_extension": ".py",
   "mimetype": "text/x-python",
   "name": "python",
   "nbconvert_exporter": "python",
   "pygments_lexer": "ipython3",
   "version": "3.9.12"
  }
 },
 "nbformat": 4,
 "nbformat_minor": 4
}
