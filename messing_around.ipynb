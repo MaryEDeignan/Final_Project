{
 "cells": [
  {
   "cell_type": "code",
   "execution_count": 27,
   "metadata": {},
   "outputs": [],
   "source": [
    "import pandas as pd\n",
    "import numpy as np\n",
    "import json\n",
    "import ast\n"
   ]
  },
  {
   "cell_type": "code",
   "execution_count": 37,
   "metadata": {},
   "outputs": [
    {
     "data": {
      "text/html": [
       "<div>\n",
       "<style scoped>\n",
       "    .dataframe tbody tr th:only-of-type {\n",
       "        vertical-align: middle;\n",
       "    }\n",
       "\n",
       "    .dataframe tbody tr th {\n",
       "        vertical-align: top;\n",
       "    }\n",
       "\n",
       "    .dataframe thead th {\n",
       "        text-align: right;\n",
       "    }\n",
       "</style>\n",
       "<table border=\"1\" class=\"dataframe\">\n",
       "  <thead>\n",
       "    <tr style=\"text-align: right;\">\n",
       "      <th></th>\n",
       "      <th>title</th>\n",
       "      <th>ingredients</th>\n",
       "      <th>instructions</th>\n",
       "      <th>picture_link</th>\n",
       "    </tr>\n",
       "  </thead>\n",
       "  <tbody>\n",
       "    <tr>\n",
       "      <th>0</th>\n",
       "      <td>Slow Cooker Chicken and Dumplings</td>\n",
       "      <td>['4 skinless, boneless chicken breast halves A...</td>\n",
       "      <td>Place the chicken, butter, soup, and onion in ...</td>\n",
       "      <td>55lznCYBbs2mT8BTx6BTkLhynGHzM.S</td>\n",
       "    </tr>\n",
       "    <tr>\n",
       "      <th>1</th>\n",
       "      <td>Awesome Slow Cooker Pot Roast</td>\n",
       "      <td>['2 (10.75 ounce) cans condensed cream of mush...</td>\n",
       "      <td>In a slow cooker, mix cream of mushroom soup, ...</td>\n",
       "      <td>QyrvGdGNMBA2lDdciY0FjKu.77MM0Oe</td>\n",
       "    </tr>\n",
       "  </tbody>\n",
       "</table>\n",
       "</div>"
      ],
      "text/plain": [
       "                               title  \\\n",
       "0  Slow Cooker Chicken and Dumplings   \n",
       "1      Awesome Slow Cooker Pot Roast   \n",
       "\n",
       "                                         ingredients  \\\n",
       "0  ['4 skinless, boneless chicken breast halves A...   \n",
       "1  ['2 (10.75 ounce) cans condensed cream of mush...   \n",
       "\n",
       "                                        instructions  \\\n",
       "0  Place the chicken, butter, soup, and onion in ...   \n",
       "1  In a slow cooker, mix cream of mushroom soup, ...   \n",
       "\n",
       "                      picture_link  \n",
       "0  55lznCYBbs2mT8BTx6BTkLhynGHzM.S  \n",
       "1  QyrvGdGNMBA2lDdciY0FjKu.77MM0Oe  "
      ]
     },
     "execution_count": 37,
     "metadata": {},
     "output_type": "execute_result"
    }
   ],
   "source": [
    "# importing allrecipes data and converting to dataframe\n",
    "with open('data/ar.json', 'r') as file:\n",
    "    ar_json = json.load(file)\n",
    "ar = pd.DataFrame(ar_json)\n",
    "ar = ar.T  # transposing dataframes\n",
    "\n",
    "\n",
    "# importing epicturious data and converting to dataframe\n",
    "with open('data/epi.json', 'r') as file:\n",
    "    epi_json = json.load(file)\n",
    "epi = pd.DataFrame(epi_json)\n",
    "epi = epi.T\n",
    "\n",
    "# importing foodnetwork data and converting to dataframe\n",
    "with open('data/fn.json', 'r') as file:\n",
    "    fn_json = json.load(file)\n",
    "fn = pd.DataFrame(fn_json)\n",
    "fn = fn.T\n",
    "\n",
    "# merging all of the dataframes into one\n",
    "df = pd.concat([ar, epi, fn], ignore_index=True)\n",
    "# removing NaN values\n",
    "df = df.dropna()\n",
    "# converting ingredients into strings\n",
    "df['ingredients'] = df['ingredients'].astype(str)\n",
    "\n",
    "df.head(2)"
   ]
  },
  {
   "cell_type": "code",
   "execution_count": 35,
   "metadata": {},
   "outputs": [
    {
     "data": {
      "text/html": [
       "<div>\n",
       "<style scoped>\n",
       "    .dataframe tbody tr th:only-of-type {\n",
       "        vertical-align: middle;\n",
       "    }\n",
       "\n",
       "    .dataframe tbody tr th {\n",
       "        vertical-align: top;\n",
       "    }\n",
       "\n",
       "    .dataframe thead th {\n",
       "        text-align: right;\n",
       "    }\n",
       "</style>\n",
       "<table border=\"1\" class=\"dataframe\">\n",
       "  <thead>\n",
       "    <tr style=\"text-align: right;\">\n",
       "      <th></th>\n",
       "      <th>title</th>\n",
       "      <th>ingredients</th>\n",
       "      <th>instructions</th>\n",
       "      <th>picture_link</th>\n",
       "    </tr>\n",
       "  </thead>\n",
       "  <tbody>\n",
       "    <tr>\n",
       "      <th>0</th>\n",
       "      <td>Slow Cooker Chicken and Dumplings</td>\n",
       "      <td>['4 skinless, boneless chicken breast halves',...</td>\n",
       "      <td>Place the chicken, butter, soup, and onion in ...</td>\n",
       "      <td>55lznCYBbs2mT8BTx6BTkLhynGHzM.S</td>\n",
       "    </tr>\n",
       "    <tr>\n",
       "      <th>1</th>\n",
       "      <td>Awesome Slow Cooker Pot Roast</td>\n",
       "      <td>['2 (10.75 ounce) cans condensed cream of mush...</td>\n",
       "      <td>In a slow cooker, mix cream of mushroom soup, ...</td>\n",
       "      <td>QyrvGdGNMBA2lDdciY0FjKu.77MM0Oe</td>\n",
       "    </tr>\n",
       "  </tbody>\n",
       "</table>\n",
       "</div>"
      ],
      "text/plain": [
       "                               title  \\\n",
       "0  Slow Cooker Chicken and Dumplings   \n",
       "1      Awesome Slow Cooker Pot Roast   \n",
       "\n",
       "                                         ingredients  \\\n",
       "0  ['4 skinless, boneless chicken breast halves',...   \n",
       "1  ['2 (10.75 ounce) cans condensed cream of mush...   \n",
       "\n",
       "                                        instructions  \\\n",
       "0  Place the chicken, butter, soup, and onion in ...   \n",
       "1  In a slow cooker, mix cream of mushroom soup, ...   \n",
       "\n",
       "                      picture_link  \n",
       "0  55lznCYBbs2mT8BTx6BTkLhynGHzM.S  \n",
       "1  QyrvGdGNMBA2lDdciY0FjKu.77MM0Oe  "
      ]
     },
     "execution_count": 35,
     "metadata": {},
     "output_type": "execute_result"
    }
   ],
   "source": [
    "# removing text that says 'ADVERTISEMENT' from ingredients\n",
    "df['ingredients'] = df['ingredients'].str.replace(' ADVERTISEMENT', '', regex=False)\n",
    "df['ingredients'] = df['ingredients'].str.replace('ADVERTISEMENT', '', regex=False)\n",
    "df.head(2)"
   ]
  },
  {
   "cell_type": "code",
   "execution_count": 25,
   "metadata": {},
   "outputs": [],
   "source": [
    "def count_ingredients(ingredient_str: str) -> int:\n",
    "    '''    \n",
    "    Count the number of ingredients in a given recipe.\n",
    "\n",
    "    Arguments:\n",
    "    ingredient_str (str): A string representation of a list of ingredients, where each ingredient is represented as a string. \n",
    "        The list may contain empty strings.\n",
    "\n",
    "    Returns:\n",
    "    int: The count of non-empty ingredient strings. Returns 0 if the input string is empty or if it cannot be evaluated as a list.'''\n",
    "    \n",
    "    if ingredient_str:  # making sure string is not empty\n",
    "        # converting string representation of the list to an actual list\n",
    "        ingredients_list = ast.literal_eval(ingredient_str)\n",
    "        # counting non-empty strings in the list\n",
    "        return sum(1 for ingredient in ingredients_list if ingredient.strip())  \n",
    "    return 0  # return 0 for empty strings"
   ]
  },
  {
   "cell_type": "code",
   "execution_count": 28,
   "metadata": {},
   "outputs": [],
   "source": [
    "# adding ingredient count to dataframe\n",
    "df['ingredient_count'] = df['ingredients'].apply(count_ingredients)\n",
    "df"
   ]
  },
  {
   "cell_type": "code",
   "execution_count": null,
   "metadata": {},
   "outputs": [],
   "source": []
  }
 ],
 "metadata": {
  "kernelspec": {
   "display_name": "base",
   "language": "python",
   "name": "python3"
  },
  "language_info": {
   "codemirror_mode": {
    "name": "ipython",
    "version": 3
   },
   "file_extension": ".py",
   "mimetype": "text/x-python",
   "name": "python",
   "nbconvert_exporter": "python",
   "pygments_lexer": "ipython3",
   "version": "3.12.3"
  }
 },
 "nbformat": 4,
 "nbformat_minor": 2
}
